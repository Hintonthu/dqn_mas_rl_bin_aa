{
  "nbformat": 4,
  "nbformat_minor": 0,
  "metadata": {
    "kernelspec": {
      "display_name": "Python 3",
      "language": "python",
      "name": "python3"
    },
    "language_info": {
      "codemirror_mode": {
        "name": "ipython",
        "version": 3
      },
      "file_extension": ".py",
      "mimetype": "text/x-python",
      "name": "python",
      "nbconvert_exporter": "python",
      "pygments_lexer": "ipython3",
      "version": "3.7.6"
    },
    "colab": {
      "name": "1st_CS-LunarLander-dqn.ipynb",
      "provenance": [],
      "collapsed_sections": []
    }
  },
  "cells": [
    {
      "cell_type": "code",
      "metadata": {
        "id": "oBBH0k8rc5iW",
        "colab_type": "code",
        "colab": {
          "base_uri": "https://localhost:8080/",
          "height": 34
        },
        "outputId": "e2d9a444-e367-4d80-f120-a3aaf4ea1fc7"
      },
      "source": [
        "%clear all\n",
        "\n",
        "import typing\n",
        "\n",
        "import torch\n",
        "from torch import nn\n",
        "\n",
        "\n",
        "QNetwork = nn.Module\n",
        "\n",
        "\n",
        "class LambdaLayer(nn.Module):\n",
        "    \n",
        "    def __init__(self, f):\n",
        "        super().__init__()\n",
        "        self._f = f\n",
        "        \n",
        "    def forward(self, X):\n",
        "        return self._f(X)\n",
        "\n",
        "\n",
        "def make_deep_q_network_fn(action_size: int) -> typing.Callable[[], QNetwork]:\n",
        "    \n",
        "    def deep_q_network_fn() -> QNetwork:\n",
        "        q_network = nn.Sequential(\n",
        "            nn.Conv2d(in_channels=4, out_channels=32, kernel_size=8, stride=4),\n",
        "            nn.ReLU(),\n",
        "            nn.Conv2d(in_channels=32, out_channels=64, kernel_size=4, stride=2),\n",
        "            nn.ReLU(),\n",
        "            nn.Conv2d(in_channels=64, out_channels=64, kernel_size=2, stride=1),\n",
        "            nn.ReLU(),\n",
        "            LambdaLayer(lambda tensor: tensor.view(tensor.size(0), -1)),\n",
        "            nn.Linear(in_features=25024, out_features=512),\n",
        "            nn.ReLU(),\n",
        "            nn.Linear(in_features=512, out_features=2)\n",
        "        )\n",
        "        return q_network\n",
        "    \n",
        "    return deep_q_network_fn"
      ],
      "execution_count": 1,
      "outputs": [
        {
          "output_type": "stream",
          "text": [
            "\u001b[H\u001b[2J"
          ],
          "name": "stdout"
        }
      ]
    },
    {
      "cell_type": "markdown",
      "metadata": {
        "id": "e9fDs-Vwc5ii",
        "colab_type": "text"
      },
      "source": [
        "### The Loss Function\n",
        "\n",
        "The $Q$-learning update at iteration $i$ uses the following loss function\n",
        "\n",
        "$$ \\mathcal{L_i}(\\theta_i) = \\mathbb{E}_{(s, a, r, s') \\sim U(D)} \\Bigg[\\bigg(r + \\gamma \\max_{a'} Q\\big(s', a'; \\theta_i^{-}\\big) - Q\\big(s, a; \\theta_i\\big)\\bigg)^2\\Bigg] $$\n",
        "\n",
        "where $\\gamma$ is the discount factor determining the agent’s horizon, $\\theta_i$ are the parameters of the $Q$-network at iteration $i$ and $\\theta_i^{-}$ are the $Q$-network parameters used to compute the target at iteration $i$. The target network parameters $\\theta_i^{-}$ are only updated with the $Q$-network parameters $\\theta_i$ every $C$ steps and are held fixed between individual updates. "
      ]
    },
    {
      "cell_type": "markdown",
      "metadata": {
        "id": "bCWYziRYc5ij",
        "colab_type": "text"
      },
      "source": [
        "### Experience Replay\n",
        "\n",
        "To perform *experience replay* the authors store the agent's experiences $e_t$ as represented by the tuple\n",
        "\n",
        "$$ e_t = (s_t, a_t, r_t, s_{t+1}) $$\n",
        "\n",
        "consisting of the observed state in period $t$, the reward received in period $t$, the action taken in period $t$, and the resulting state in period $t+1$. The dataset of agent experiences at period $t$ consists of the set of past experiences.\n",
        "\n",
        "$$ D_t = \\{e1, e2, ..., e_t \\} $$\n",
        "\n",
        "Depending on the task it may note be feasible for the agent to store the entire history of past experiences.\n",
        "\n",
        "During learning Q-learning updates are computed based on samples (or minibatches) of experience $(s,a,r,s')$, drawn uniformly at random from the pool of stored samples $D_t$.\n",
        "\n",
        "The following is my Python implmentation of these ideas. "
      ]
    },
    {
      "cell_type": "code",
      "metadata": {
        "id": "Of1-f8Adc5il",
        "colab_type": "code",
        "colab": {}
      },
      "source": [
        "import collections\n",
        "import typing\n",
        "\n",
        "import numpy as np\n",
        "\n",
        "\n",
        "_field_names = [\n",
        "    \"state\",\n",
        "    \"action\",\n",
        "    \"reward\",\n",
        "    \"next_state\",\n",
        "    \"done\"\n",
        "]\n",
        "Experience = collections.namedtuple(\"Experience\", field_names=_field_names)\n",
        "\n",
        "\n",
        "class ExperienceReplayBuffer:\n",
        "    \"\"\"Fixed-size buffer to store experience tuples.\"\"\"\n",
        "\n",
        "    def __init__(self,\n",
        "                 batch_size: int,\n",
        "                 buffer_size: int = None,\n",
        "                 random_state: np.random.RandomState = None) -> None:\n",
        "        \"\"\"\n",
        "        Initialize an ExperienceReplayBuffer object.\n",
        "\n",
        "        Parameters:\n",
        "        -----------\n",
        "        buffer_size (int): maximum size of buffer\n",
        "        batch_size (int): size of each training batch\n",
        "        seed (int): random seed\n",
        "        \n",
        "        \"\"\"\n",
        "        self._batch_size = batch_size\n",
        "        self._buffer_size = buffer_size\n",
        "        self._buffer = collections.deque(maxlen=buffer_size)\n",
        "        self._random_state = np.random.RandomState() if random_state is None else random_state\n",
        "        \n",
        "    def __len__(self) -> int:\n",
        "        return len(self._buffer)\n",
        "    \n",
        "    @property\n",
        "    def batch_size(self) -> int:\n",
        "        return self._batch_size\n",
        "    \n",
        "    @property\n",
        "    def buffer_size(self) -> int:\n",
        "        return self._buffer_size\n",
        "\n",
        "    def is_full(self) -> bool:\n",
        "        return len(self._buffer) == self._buffer_size\n",
        "    \n",
        "    def append(self, experience: Experience) -> None:\n",
        "        \"\"\"Add a new experience to memory.\"\"\"\n",
        "        self._buffer.append(experience)\n",
        "    \n",
        "    def sample(self) -> typing.List[Experience]:\n",
        "        \"\"\"Randomly sample a batch of experiences from memory.\"\"\"\n",
        "        idxs = self._random_state.randint(len(self._buffer), size=self._batch_size)\n",
        "        experiences = [self._buffer[idx] for idx in idxs]\n",
        "        return experiences\n"
      ],
      "execution_count": 2,
      "outputs": []
    },
    {
      "cell_type": "markdown",
      "metadata": {
        "id": "v5iAtJXjc5i6",
        "colab_type": "text"
      },
      "source": [
        "### The Deep Q-Network Algorithm\n",
        "\n",
        "The following is Python pseudo-code for the Deep Q-Network (DQN) algorithm. For more fine-grained details of the DQN algorithm see the methods section of [Minh et al 2015](https://storage.googleapis.com/deepmind-media/dqn/DQNNaturePaper.pdf).\n",
        "\n",
        "```python\n",
        "\n",
        "# hyper-parameters\n",
        "batch_size = 32 # number of experience tuples used in computing the gradient descent parameter update.\n",
        "buffer_size = 10000 # number of experience tuples stored in the replay buffer\n",
        "gamma = 0.99 # discount factor used in the Q-learning update\n",
        "target_network_update_frequency = 4 # frequency (measured in parameter updates) with which target network is updated.\n",
        "update_frequency = 4 # frequency (measured in number of timesteps) with which q-network parameters are updated.\n",
        "\n",
        "# initilizing the various data structures\n",
        "replay_buffer = ExperienceReplayBuffer(batch_size, buffer_size, seed)\n",
        "local_q_network = initialize_q_network()\n",
        "target_q_network = initialize_q_network()\n",
        "synchronize_q_networks(target_q_network, local_q_network)\n",
        "\n",
        "for i in range(number_episodes)\n",
        "\n",
        "    # initialize the environment state\n",
        "    state = env.reset()\n",
        "\n",
        "    # simulate a single training episode\n",
        "    done = False\n",
        "    timesteps = 0\n",
        "    parameter_updates = 0\n",
        "    while not done:\n",
        "\n",
        "        # greedy action based on Q(s, a; theta)\n",
        "        action = agent.choose_epsilon_greedy_action(state) \n",
        "\n",
        "        # update the environment based on the chosen action\n",
        "        next_state, reward, done = env.step(action)\n",
        "\n",
        "        # agent records experience in its replay buffer\n",
        "        experience = (state, action, reward, next_state, done)\n",
        "        agent.replay_buffer.append(experience)\n",
        "\n",
        "        # agent samples a mini-batch of experiences from its replay buffer\n",
        "        experiences = agent.replay_buffer.sample()\n",
        "        states, actions, rewards, next_states, dones = experiences\n",
        "\n",
        "        # agent learns every update_frequency timesteps\n",
        "        if timesteps % update_frequency == 0:\n",
        "            \n",
        "            # compute the Q^- values using the Q-learning formula\n",
        "            target_q_values = q_learning_update(target_q_network, rewards, next_states, dones)\n",
        "\n",
        "            # compute the Q values\n",
        "            local_q_values = local_q_network(states, actions)\n",
        "\n",
        "            # agent updates the parameters theta using gradient descent\n",
        "            loss = mean_squared_error(target_q_values, local_q_values)\n",
        "            gradient_descent_update(loss)\n",
        "            \n",
        "            parameter_updates += 1\n",
        "\n",
        "        # every target_network_update_frequency timesteps set theta^- = theta\n",
        "        if parameter_updates % target_network_update_frequency == 0:\n",
        "            synchronize_q_networks(target_q_network, local_q_network)\n",
        "```\n"
      ]
    },
    {
      "cell_type": "markdown",
      "metadata": {
        "id": "flTWLf73c5i9",
        "colab_type": "text"
      },
      "source": [
        "## Solving the `LunarLander-v2` environment\n",
        "\n",
        "In the rest of this blog post I will use the DQN algorithm to train an agent to solve the [LunarLander-v2](https://gym.openai.com/envs/LunarLander-v2/) environment from [OpenAI](https://openai.com/).\n",
        "\n",
        "In this environment the landing pad is always at coordinates (0,0). The reward for moving the lander from the top of the screen to landing pad and arriving at zero speed is typically between 100 and 140 points. Firing the main engine is -0.3 points each frame (so the lander is incentivized to fire the engine as few times possible). If the lander moves away from landing pad it loses reward (so the lander is incentived to land in the designated landing area). The lander is also incentived to land \"gracefully\" (and not crash in the landing area!).\n",
        "\n",
        "A training episode finishes if the lander crashes (-100 points) or comes to rest (+100 points). Each leg with ground contact receives and additional +10 points. The task is considered \"solved\" if the lander is able to achieve 200 points (I will actually be more stringent and define \"solved\" as achieving over 200 points on average in the most recent 100 training episodes).\n",
        "\n",
        "### Action Space \n",
        "\n",
        "There are four discrete actions available: \n",
        "\n",
        "0. Do nothing.\n",
        "1. Fire the left orientation engine.\n",
        "2. Fire main engine.\n",
        "3. Fire the right orientation engine."
      ]
    },
    {
      "cell_type": "markdown",
      "metadata": {
        "id": "1BmMaLINc5i_",
        "colab_type": "text"
      },
      "source": [
        "### Google Colab Preamble\n",
        "\n",
        "If you are playing around with this notebook on Google Colab, then you will need to run the following cell in order to install the required OpenAI dependencies into the environment."
      ]
    },
    {
      "cell_type": "code",
      "metadata": {
        "id": "Wvzm9ShTc5jB",
        "colab_type": "code",
        "colab": {
          "base_uri": "https://localhost:8080/",
          "height": 1000
        },
        "outputId": "a5f2faa7-c62b-4836-faf6-4e1fd8d5ab2b"
      },
      "source": [
        "%%bash\n",
        "\n",
        "# install required system dependencies\n",
        "apt-get install -y xvfb x11-utils\n",
        "\n",
        "# install required python dependencies (might need to install additional gym extras depending)\n",
        "pip install gym[box2d]==0.17.* pyvirtualdisplay==0.2.* PyOpenGL==3.1.* PyOpenGL-accelerate==3.1.*\n"
      ],
      "execution_count": 3,
      "outputs": [
        {
          "output_type": "stream",
          "text": [
            "Reading package lists...\n",
            "Building dependency tree...\n",
            "Reading state information...\n",
            "The following package was automatically installed and is no longer required:\n",
            "  libnvidia-common-440\n",
            "Use 'apt autoremove' to remove it.\n",
            "The following additional packages will be installed:\n",
            "  libxxf86dga1\n",
            "Suggested packages:\n",
            "  mesa-utils\n",
            "The following NEW packages will be installed:\n",
            "  libxxf86dga1 x11-utils xvfb\n",
            "0 upgraded, 3 newly installed, 0 to remove and 35 not upgraded.\n",
            "Need to get 993 kB of archives.\n",
            "After this operation, 2,977 kB of additional disk space will be used.\n",
            "Get:1 http://archive.ubuntu.com/ubuntu bionic/main amd64 libxxf86dga1 amd64 2:1.1.4-1 [13.7 kB]\n",
            "Get:2 http://archive.ubuntu.com/ubuntu bionic/main amd64 x11-utils amd64 7.7+3build1 [196 kB]\n",
            "Get:3 http://archive.ubuntu.com/ubuntu bionic-updates/universe amd64 xvfb amd64 2:1.19.6-1ubuntu4.4 [784 kB]\n",
            "Fetched 993 kB in 1s (1,370 kB/s)\n",
            "Selecting previously unselected package libxxf86dga1:amd64.\r\n",
            "(Reading database ... \r(Reading database ... 5%\r(Reading database ... 10%\r(Reading database ... 15%\r(Reading database ... 20%\r(Reading database ... 25%\r(Reading database ... 30%\r(Reading database ... 35%\r(Reading database ... 40%\r(Reading database ... 45%\r(Reading database ... 50%\r(Reading database ... 55%\r(Reading database ... 60%\r(Reading database ... 65%\r(Reading database ... 70%\r(Reading database ... 75%\r(Reading database ... 80%\r(Reading database ... 85%\r(Reading database ... 90%\r(Reading database ... 95%\r(Reading database ... 100%\r(Reading database ... 144487 files and directories currently installed.)\r\n",
            "Preparing to unpack .../libxxf86dga1_2%3a1.1.4-1_amd64.deb ...\r\n",
            "Unpacking libxxf86dga1:amd64 (2:1.1.4-1) ...\r\n",
            "Selecting previously unselected package x11-utils.\r\n",
            "Preparing to unpack .../x11-utils_7.7+3build1_amd64.deb ...\r\n",
            "Unpacking x11-utils (7.7+3build1) ...\r\n",
            "Selecting previously unselected package xvfb.\r\n",
            "Preparing to unpack .../xvfb_2%3a1.19.6-1ubuntu4.4_amd64.deb ...\r\n",
            "Unpacking xvfb (2:1.19.6-1ubuntu4.4) ...\r\n",
            "Setting up xvfb (2:1.19.6-1ubuntu4.4) ...\r\n",
            "Setting up libxxf86dga1:amd64 (2:1.1.4-1) ...\r\n",
            "Setting up x11-utils (7.7+3build1) ...\r\n",
            "Processing triggers for man-db (2.8.3-2ubuntu0.1) ...\r\n",
            "Processing triggers for libc-bin (2.27-3ubuntu1) ...\r\n",
            "/sbin/ldconfig.real: /usr/local/lib/python3.6/dist-packages/ideep4py/lib/libmkldnn.so.0 is not a symbolic link\r\n",
            "\r\n",
            "Requirement already satisfied: gym[box2d]==0.17.* in /usr/local/lib/python3.6/dist-packages (0.17.2)\n",
            "Collecting pyvirtualdisplay==0.2.*\n",
            "  Downloading https://files.pythonhosted.org/packages/69/ec/8221a07850d69fa3c57c02e526edd23d18c7c05d58ed103e3b19172757c1/PyVirtualDisplay-0.2.5-py2.py3-none-any.whl\n",
            "Requirement already satisfied: PyOpenGL==3.1.* in /usr/local/lib/python3.6/dist-packages (3.1.5)\n",
            "Collecting PyOpenGL-accelerate==3.1.*\n",
            "  Downloading https://files.pythonhosted.org/packages/a2/3c/f42a62b7784c04b20f8b88d6c8ad04f4f20b0767b721102418aad94d8389/PyOpenGL-accelerate-3.1.5.tar.gz (538kB)\n",
            "Requirement already satisfied: pyglet<=1.5.0,>=1.4.0 in /usr/local/lib/python3.6/dist-packages (from gym[box2d]==0.17.*) (1.5.0)\n",
            "Requirement already satisfied: scipy in /usr/local/lib/python3.6/dist-packages (from gym[box2d]==0.17.*) (1.4.1)\n",
            "Requirement already satisfied: numpy>=1.10.4 in /usr/local/lib/python3.6/dist-packages (from gym[box2d]==0.17.*) (1.18.5)\n",
            "Requirement already satisfied: cloudpickle<1.4.0,>=1.2.0 in /usr/local/lib/python3.6/dist-packages (from gym[box2d]==0.17.*) (1.3.0)\n",
            "Collecting box2d-py~=2.3.5; extra == \"box2d\"\n",
            "  Downloading https://files.pythonhosted.org/packages/06/bd/6cdc3fd994b0649dcf5d9bad85bd9e26172308bbe9a421bfc6fdbf5081a6/box2d_py-2.3.8-cp36-cp36m-manylinux1_x86_64.whl (448kB)\n",
            "Collecting EasyProcess\n",
            "  Downloading https://files.pythonhosted.org/packages/48/3c/75573613641c90c6d094059ac28adb748560d99bd27ee6f80cce398f404e/EasyProcess-0.3-py2.py3-none-any.whl\n",
            "Requirement already satisfied: future in /usr/local/lib/python3.6/dist-packages (from pyglet<=1.5.0,>=1.4.0->gym[box2d]==0.17.*) (0.16.0)\n",
            "Building wheels for collected packages: PyOpenGL-accelerate\n",
            "  Building wheel for PyOpenGL-accelerate (setup.py): started\n",
            "  Building wheel for PyOpenGL-accelerate (setup.py): finished with status 'done'\n",
            "  Created wheel for PyOpenGL-accelerate: filename=PyOpenGL_accelerate-3.1.5-cp36-cp36m-linux_x86_64.whl size=1593669 sha256=5891e8777ee91ebe7e89bfa29026bc6bb9bd7a14d64b9efa05e400dc1e71c934\n",
            "  Stored in directory: /root/.cache/pip/wheels/bd/21/77/99670ceca25fddb3c2b60a7ae44644b8253d1006e8ec417bcc\n",
            "Successfully built PyOpenGL-accelerate\n",
            "Installing collected packages: EasyProcess, pyvirtualdisplay, PyOpenGL-accelerate, box2d-py\n",
            "Successfully installed EasyProcess-0.3 PyOpenGL-accelerate-3.1.5 box2d-py-2.3.8 pyvirtualdisplay-0.2.5\n"
          ],
          "name": "stdout"
        }
      ]
    },
    {
      "cell_type": "markdown",
      "metadata": {
        "id": "NAlQ8Me7c5jH",
        "colab_type": "text"
      },
      "source": [
        "The code in the cell below creates a virtual display in the background that your Gym Envs can connect to for rendering. You can adjust the size of the virtual buffer as you like but you must set `visible=False`.\n",
        "\n",
        "**This code only needs to be run once per session to start the display.**"
      ]
    },
    {
      "cell_type": "code",
      "metadata": {
        "id": "HXeHSrZFc5jI",
        "colab_type": "code",
        "colab": {}
      },
      "source": [
        "import pyvirtualdisplay\n",
        "\n",
        "\n",
        "_display = pyvirtualdisplay.Display(visible=False,  # use False with Xvfb\n",
        "                                    size=(1400, 900))\n",
        "_ = _display.start()"
      ],
      "execution_count": 4,
      "outputs": []
    },
    {
      "cell_type": "markdown",
      "metadata": {
        "id": "tynfeGv_c5jR",
        "colab_type": "text"
      },
      "source": [
        "### Binder Preamble\n",
        "\n",
        "If you are running this code on Binder, then there isn't really much to do as all the software is pre-installed. However you do still need to run the code in the cell below to creates a virtual display in the background that your Gym Envs can connect to for rendering. You can adjust the size of the virtual buffer as you like but you must set `visible=False`.\n",
        "\n",
        "*This code only needs to be run once per session to start the display.*"
      ]
    },
    {
      "cell_type": "code",
      "metadata": {
        "id": "EntU0rXcc5jT",
        "colab_type": "code",
        "colab": {}
      },
      "source": [
        "import pyvirtualdisplay\n",
        "\n",
        "\n",
        "_display = pyvirtualdisplay.Display(visible=False,  # use False with Xvfb\n",
        "                                    size=(1400, 900))\n",
        "_ = _display.start()"
      ],
      "execution_count": 5,
      "outputs": []
    },
    {
      "cell_type": "markdown",
      "metadata": {
        "id": "8NXANasAc5jd",
        "colab_type": "text"
      },
      "source": [
        "### Creating the Gym environment"
      ]
    },
    {
      "cell_type": "code",
      "metadata": {
        "id": "ssQ3ed61c5jg",
        "colab_type": "code",
        "colab": {}
      },
      "source": [
        "import gym\n",
        "\n",
        "env = gym.make('LunarLander-v2')\n",
        "_ = env.seed(42)"
      ],
      "execution_count": 6,
      "outputs": []
    },
    {
      "cell_type": "markdown",
      "metadata": {
        "id": "jCbiT6-tc5jo",
        "colab_type": "text"
      },
      "source": [
        "### Defining a generic `Agent` and `train` loop\n",
        "\n",
        "In the cell below I define a fairly generic training loop for training and `Agent` to solve a task in a given `gym.Env` environment. In working through the hands-on portions of the [Udacity](https://www.udacity.com/) [*Deep Reinforcement Learning Nanodegree*](https://www.udacity.com/course/deep-reinforcement-learning-nanodegree--nd893) I found myself writing similar code over and over again to train the agent to solve a task. This is my first attempt to write something that I might be able to reuse on the course going forward."
      ]
    },
    {
      "cell_type": "code",
      "metadata": {
        "id": "2GqXNZCZc5jp",
        "colab_type": "code",
        "colab": {}
      },
      "source": [
        "class Agent:\n",
        "    \n",
        "    def choose_action(self, state: np.array) -> int:\n",
        "        \"\"\"Rule for choosing an action given the current state of the environment.\"\"\"\n",
        "        raise NotImplementedError\n",
        "        \n",
        "    def save(self, filepath) -> None:\n",
        "        \"\"\"Save any important agent state to a file.\"\"\"\n",
        "        raise NotImplementedError\n",
        "        \n",
        "    def step(self,\n",
        "             state: np.array,\n",
        "             action: int,\n",
        "             reward: float,\n",
        "             next_state: np.array,\n",
        "             done: bool) -> None:\n",
        "        \"\"\"Update agent's state after observing the effect of its action on the environment.\"\"\"\n",
        "        raise NotImplmentedError\n"
      ],
      "execution_count": 7,
      "outputs": []
    },
    {
      "cell_type": "code",
      "metadata": {
        "id": "3vATxdcQc5jx",
        "colab_type": "code",
        "colab": {}
      },
      "source": [
        "from numpy import random\n",
        "\n",
        "def _train_for_at_most(agentl: Agent,agentu: Agent,agentr: Agent,agentd: Agent, env: gym.Env, max_timesteps: int) -> int:\n",
        "    \"\"\"Train agent for a maximum number of timesteps.\"\"\"\n",
        "    state = env.reset()\n",
        "    score = 0\n",
        "    for t in range(max_timesteps):\n",
        "\n",
        "\n",
        "#        action = agent.choose_action(state)\n",
        "        au = agentu.choose_action(state)  #0\n",
        "        al = agentl.choose_action(state)  #1\n",
        "        ad = agentd.choose_action(state)  #2\n",
        "        ar = agentr.choose_action(state)  #3\n",
        "        #print(al,au,ar,ad)\n",
        "        if   (al==1 and ar==0): \n",
        "                    if ((au==0 and ad==0) or (au==1 and ad==1)):\n",
        "                        action=1\n",
        "                    elif (au==0 and ad==1):\n",
        "                        action = random.choice([1,2])\n",
        "                    elif (au==1 and ad==0):\n",
        "                        action = random.choice([1,0])      \n",
        " \n",
        "        elif (au==1 and ad==0):\n",
        "                    if ((al==0 and ar==0) or (al==1 and ar==1)):\n",
        "                        action=0        \n",
        "                    elif (al==0 and ar==1):\n",
        "                        action = random.choice([0,3])\n",
        "                    elif (al==1 and ar==0):\n",
        "                        action = random.choice([0,1])      \n",
        "#        au = agentn.choose_action(state)  #0\n",
        " #       al = agentl.choose_action(state)  #1\n",
        "  #      ad = agentm.choose_action(state)  #2\n",
        "   #     ar = agentr.choose_action(state)  #3\n",
        "\n",
        "        elif (al==0 and ar==1):\n",
        "                    if ((au==0 and ad==0) or (au==1 and ad==1)):\n",
        "                        action=3\n",
        "                    elif (au==0 and ad==1):\n",
        "                        action = random.choice([3,2])\n",
        "                    elif (au==1 and ad==0):\n",
        "                        action = random.choice([3,0])      \n",
        " \n",
        "        elif (au==0 and ad==1) :\n",
        "                    if ((al==0 and ar==0) or (al==1 and ar==1)):\n",
        "                        action=2\n",
        "                    elif (al==0 and ar==1):\n",
        "                        action = random.choice([2,3])\n",
        "                    elif (al==1 and ar==0):\n",
        "                        action = random.choice([2,1])      \n",
        "#        au = agentn.choose_action(state)  #0\n",
        " #       al = agentl.choose_action(state)  #1\n",
        "  #      ad = agentm.choose_action(state)  #2\n",
        "   #     ar = agentr.choose_action(state)  #3\n",
        "\n",
        "        else:\n",
        "                    action = random.choice([0, 1, 2, 3]) \n",
        "                    if   (action==0):\n",
        "                      al=0;ar=0;au=1;ad=0;\n",
        "                    elif (action==1):\n",
        "                      al=1;ar=0;au=0;ad=0;\n",
        "                    elif (action==2):\n",
        "                      al=0;ar=0;au=0;ad=1;    \n",
        "                    elif (action==3):\n",
        "                      al=0;ar=1;au=0;ad=0;\n",
        "\n",
        "\n",
        "        next_state, reward, done, _ = env.step(action)\n",
        "        agentl.step(state, al, reward, next_state, done)\n",
        "        agentu.step(state, au, reward, next_state, done)\n",
        "        agentr.step(state, ar, reward, next_state, done)\n",
        "        agentd.step(state, ad, reward, next_state, done)\n",
        " #       agent.step(state, action, reward, next_state, done)\n",
        "        state = next_state\n",
        "        score += reward\n",
        "        if done:\n",
        "            break\n",
        "    return score\n",
        "\n",
        "                \n",
        "def _train_until_done(agentl: Agent,agentu: Agent,agentr: Agent,agentd: Agent, env: gym.Env) -> float:\n",
        "    \"\"\"Train the agent until the current episode is complete.\"\"\"\n",
        "    state = env.reset()\n",
        "    score = 0\n",
        "    done = False\n",
        "    while not done:\n",
        "        au = agentu.choose_action(state)  #0\n",
        "        al = agentl.choose_action(state)  #1\n",
        "        ad = agentd.choose_action(state)  #2\n",
        "        ar = agentr.choose_action(state)  #3\n",
        "        #print(al,au,ar,ad)\n",
        "        if   (al==1 and ar==0): \n",
        "                    if ((au==0 and ad==0) or (au==1 and ad==1)):\n",
        "                        action=1\n",
        "                    elif (au==0 and ad==1):\n",
        "                        action = random.choice([1,2])\n",
        "                    elif (au==1 and ad==0):\n",
        "                        action = random.choice([1,0])      \n",
        " \n",
        "        elif (au==1 and ad==0):\n",
        "                    if ((al==0 and ar==0) or (al==1 and ar==1)):\n",
        "                        action=0        \n",
        "                    elif (al==0 and ar==1):\n",
        "                        action = random.choice([0,3])\n",
        "                    elif (al==1 and ar==0):\n",
        "                        action = random.choice([0,1])      \n",
        "#        au = agentn.choose_action(state)  #0\n",
        " #       al = agentl.choose_action(state)  #1\n",
        "  #      ad = agentm.choose_action(state)  #2\n",
        "   #     ar = agentr.choose_action(state)  #3\n",
        "\n",
        "        elif (al==0 and ar==1):\n",
        "                    if ((au==0 and ad==0) or (au==1 and ad==1)):\n",
        "                        action=3\n",
        "                    elif (au==0 and ad==1):\n",
        "                        action = random.choice([3,2])\n",
        "                    elif (au==1 and ad==0):\n",
        "                        action = random.choice([3,0])      \n",
        " \n",
        "        elif (au==0 and ad==1) :\n",
        "                    if ((al==0 and ar==0) or (al==1 and ar==1)):\n",
        "                        action=2\n",
        "                    elif (al==0 and ar==1):\n",
        "                        action = random.choice([2,3])\n",
        "                    elif (al==1 and ar==0):\n",
        "                        action = random.choice([2,1])      \n",
        "#        au = agentn.choose_action(state)  #0\n",
        " #       al = agentl.choose_action(state)  #1\n",
        "  #      ad = agentm.choose_action(state)  #2\n",
        "   #     ar = agentr.choose_action(state)  #3\n",
        "\n",
        "        else:\n",
        "                    action = random.choice([0, 1, 2, 3]) \n",
        "                    if   (action==0):\n",
        "                      al=0;ar=0;au=1;ad=0;\n",
        "                    elif (action==1):\n",
        "                      al=1;ar=0;au=0;ad=0;\n",
        "                    elif (action==2):\n",
        "                      al=0;ar=0;au=0;ad=1;    \n",
        "                    elif (action==3):\n",
        "                      al=0;ar=1;au=0;ad=0;\n",
        "\n",
        "\n",
        "        next_state, reward, done, _ = env.step(action)\n",
        "        agentl.step(state, al, reward, next_state, done)\n",
        "        agentu.step(state, au, reward, next_state, done)\n",
        "        agentr.step(state, ar, reward, next_state, done)\n",
        "        agentd.step(state, ad, reward, next_state, done)\n",
        "        state = next_state\n",
        "        score += reward\n",
        "    return score\n",
        "\n",
        "\n",
        "def train(agentl: Agent,agentu: Agent,agentr: Agent,agentd: Agent,\n",
        "          \n",
        "          env: gym.Env,\n",
        "          checkpoint_filepath: str,\n",
        "          target_score: float,\n",
        "          number_episodes: int,\n",
        "          maximum_timesteps=None) -> typing.List[float]:\n",
        "    \"\"\"\n",
        "    Reinforcement learning training loop.\n",
        "    \n",
        "    Parameters:\n",
        "    -----------\n",
        "    agent (Agent): an agent to train.\n",
        "    env (gym.Env): an environment in which to train the agent.\n",
        "    checkpoint_filepath (str): filepath used to save the state of the trained agent.\n",
        "    number_episodes (int): maximum number of training episodes.\n",
        "    maximum_timsteps (int): maximum number of timesteps per episode.\n",
        "    \n",
        "    Returns:\n",
        "    --------\n",
        "    scores (list): collection of episode scores from training.\n",
        "    \n",
        "    \"\"\"\n",
        "    scores = []\n",
        "    most_recent_scores = collections.deque(maxlen=100)\n",
        "    for i in range(number_episodes):\n",
        "        if maximum_timesteps is None:\n",
        "            score = _train_until_done(agentl,agentu,agentr,agentd, env)\n",
        "        else:\n",
        "            score = _train_for_at_most(agentl,agentu,agentr,agentd, env, maximum_timesteps)         \n",
        "        scores.append(score)\n",
        "        most_recent_scores.append(score)\n",
        "        \n",
        "        average_score = sum(most_recent_scores) / len(most_recent_scores)\n",
        "        if average_score >= target_score:\n",
        "            print(f\"\\nEnvironment solved in {i:d} episodes!\\tAverage Score: {average_score:.2f}\")\n",
        "            #agent.save(checkpoint_filepath)\n",
        "            break\n",
        "        if (i + 1) % 100 == 0:\n",
        "            print(f\"\\rEpisode {i + 1}\\tAverage Score: {average_score:.2f}\")\n",
        "\n",
        "    return scores"
      ],
      "execution_count": 8,
      "outputs": []
    },
    {
      "cell_type": "markdown",
      "metadata": {
        "id": "2CHHq9c7c5j3",
        "colab_type": "text"
      },
      "source": [
        "### Creating a `DeepQAgent`\n",
        "\n",
        "The code in the cell below encapsulates much of the logic of the DQN algorithm in a `DeepQAgent` class. Since the `LunarLander-v2` task is not well suited for convolutional neural networks, the agent uses a simple three layer dense neural network with ReLU activation functions to approximate the action-value function $Q$."
      ]
    },
    {
      "cell_type": "code",
      "metadata": {
        "id": "CxtRgm9Bc5j5",
        "colab_type": "code",
        "colab": {}
      },
      "source": [
        "from torch import optim\n",
        "from torch.nn import functional as F\n",
        "\n",
        "\n",
        "class DeepQAgent(Agent):\n",
        "\n",
        "    def __init__(self,\n",
        "                 state_size: int,\n",
        "                 action_size: int,\n",
        "                 number_hidden_units: int,\n",
        "                 optimizer_fn: typing.Callable[[typing.Iterable[torch.nn.Parameter]], optim.Optimizer],\n",
        "                 batch_size: int,\n",
        "                 buffer_size: int,\n",
        "                 epsilon_decay_schedule: typing.Callable[[int], float],\n",
        "                 alpha: float,\n",
        "                 gamma: float,\n",
        "                 update_frequency: int,\n",
        "                 seed: int = None) -> None:\n",
        "        \"\"\"\n",
        "        Initialize a DeepQAgent.\n",
        "        \n",
        "        Parameters:\n",
        "        -----------\n",
        "        state_size (int): the size of the state space.\n",
        "        action_size (int): the size of the action space.\n",
        "        number_hidden_units (int): number of units in the hidden layers.\n",
        "        optimizer_fn (callable): function that takes Q-network parameters and returns an optimizer.\n",
        "        batch_size (int): number of experience tuples in each mini-batch.\n",
        "        buffer_size (int): maximum number of experience tuples stored in the replay buffer.\n",
        "        epsilon_decay_schdule (callable): function that takes episode number and returns epsilon.\n",
        "        alpha (float): rate at which the target q-network parameters are updated.\n",
        "        gamma (float): Controls how much that agent discounts future rewards (0 < gamma <= 1).\n",
        "        update_frequency (int): frequency (measured in time steps) with which q-network parameters are updated.\n",
        "        seed (int): random seed\n",
        "        \n",
        "        \"\"\"\n",
        "        self._state_size = state_size\n",
        "        self._action_size = action_size\n",
        "        self._device = torch.device(\"cuda\" if torch.cuda.is_available() else \"cpu\")\n",
        "        \n",
        "        # set seeds for reproducibility\n",
        "        self._random_state = np.random.RandomState() if seed is None else np.random.RandomState(seed)\n",
        "        if seed is not None:\n",
        "            torch.manual_seed(seed)\n",
        "        if torch.cuda.is_available():\n",
        "            torch.backends.cudnn.deterministic = True\n",
        "            torch.backends.cudnn.benchmark = False\n",
        "        \n",
        "        # initialize agent hyperparameters\n",
        "        self._experience_replay_buffer = ExperienceReplayBuffer(batch_size, buffer_size, seed)\n",
        "        self._epsilon_decay_schedule = epsilon_decay_schedule\n",
        "        self._alpha = alpha\n",
        "        self._gamma = gamma\n",
        "        \n",
        "        # initialize Q-Networks\n",
        "        self._update_frequency = update_frequency\n",
        "        self._local_q_network = self._initialize_q_network(number_hidden_units)\n",
        "        self._target_q_network = self._initialize_q_network(number_hidden_units)\n",
        "        self._synchronize_q_networks()\n",
        "        \n",
        "        # send the networks to the device\n",
        "        self._local_q_network.to(self._device)\n",
        "        self._target_q_network.to(self._device)\n",
        "        \n",
        "        # initialize the optimizer\n",
        "        self._optimizer = optimizer_fn(self._local_q_network.parameters())\n",
        "\n",
        "        # initialize some counters\n",
        "        self._number_episodes = 0\n",
        "        self._number_timesteps = 0\n",
        "        self._number_parameter_updates = 0\n",
        "        \n",
        "    def _initialize_q_network(self, number_hidden_units: int) -> nn.Module:\n",
        "        \"\"\"Create a neural network for approximating the action-value function.\"\"\"\n",
        "        q_network = nn.Sequential(\n",
        "            nn.Linear(in_features=self._state_size, out_features=number_hidden_units),\n",
        "            nn.ReLU(),\n",
        "            nn.Linear(in_features=number_hidden_units, out_features=number_hidden_units),\n",
        "            nn.ReLU(),\n",
        "            nn.Linear(in_features=number_hidden_units, out_features=self._action_size)\n",
        "        )\n",
        "        return q_network\n",
        "        \n",
        "    def _learn_from(self, experiences: typing.List[Experience]) -> None:\n",
        "        \"\"\"Heart of the Deep Q-learning algorithm.\"\"\"\n",
        "        states, actions, rewards, next_states, dones = (torch.Tensor(vs).to(self._device) for vs in zip(*experiences))\n",
        "        \n",
        "        # get max predicted Q values (for next states) from target model\n",
        "        next_target_q_values, _ = (self._target_q_network(next_states)\n",
        "                                       .detach()\n",
        "                                       .max(dim=1))\n",
        "        \n",
        "        # compute the new Q' values using the Q-learning formula\n",
        "        target_q_values = rewards + (self._gamma * next_target_q_values * (1 - dones))\n",
        "        \n",
        "        # get expected Q values from local model\n",
        "        _index = (actions.long()\n",
        "                         .unsqueeze(dim=1))\n",
        "        expected_q_values = (self._local_q_network(states)\n",
        "                                 .gather(dim=1, index=_index))\n",
        "        # compute the mean squared loss\n",
        "        loss = F.mse_loss(expected_q_values, target_q_values.unsqueeze(dim=1))\n",
        "        \n",
        "        # agent updates the parameters theta of Q using gradient descent\n",
        "        self._optimizer.zero_grad()\n",
        "        loss.backward()\n",
        "        self._optimizer.step()\n",
        "        \n",
        "        self._soft_update_target_q_network_parameters()\n",
        "                 \n",
        "    def _soft_update_target_q_network_parameters(self) -> None:\n",
        "        \"\"\"Soft-update of target q-network parameters with the local q-network parameters.\"\"\"\n",
        "        for target_param, local_param in zip(self._target_q_network.parameters(), self._local_q_network.parameters()):\n",
        "            target_param.data.copy_(self._alpha * local_param.data + (1 - self._alpha) * target_param.data)\n",
        "    \n",
        "    def _synchronize_q_networks(self) -> None:\n",
        "        \"\"\"Synchronize the target_q_network and the local_q_network.\"\"\"\n",
        "        _ = self._target_q_network.load_state_dict(self._local_q_network.state_dict())\n",
        "           \n",
        "    def _uniform_random_policy(self, state: torch.Tensor) -> int:\n",
        "        \"\"\"Choose an action uniformly at random.\"\"\"\n",
        "        return self._random_state.randint(self._action_size)\n",
        "        \n",
        "    def _greedy_policy(self, state: torch.Tensor) -> int:\n",
        "        \"\"\"Choose an action that maximizes the action_values given the current state.\"\"\"\n",
        "        # evaluate the network to compute the action values\n",
        "        self._local_q_network.eval()\n",
        "        with torch.no_grad():\n",
        "            action_values = self._local_q_network(state)\n",
        "        self._local_q_network.train()\n",
        "        \n",
        "        # choose the greedy action\n",
        "        action = (action_values.cpu()  # action_values might reside on the GPU!\n",
        "                               .argmax()\n",
        "                               .item())\n",
        "        return action\n",
        "    \n",
        "    def _epsilon_greedy_policy(self, state: torch.Tensor, epsilon: float) -> int:\n",
        "        \"\"\"With probability epsilon explore randomly; otherwise exploit knowledge optimally.\"\"\"\n",
        "        if self._random_state.random() < epsilon:\n",
        "            action = self._uniform_random_policy(state)\n",
        "        else:\n",
        "            action = self._greedy_policy(state)\n",
        "        return action\n",
        "\n",
        "    def choose_action(self, state: np.array) -> int:\n",
        "        \"\"\"\n",
        "        Return the action for given state as per current policy.\n",
        "        \n",
        "        Parameters:\n",
        "        -----------\n",
        "        state (np.array): current state of the environment.\n",
        "        \n",
        "        Return:\n",
        "        --------\n",
        "        action (int): an integer representing the chosen action.\n",
        "\n",
        "        \"\"\"\n",
        "        # need to reshape state array and convert to tensor\n",
        "        state_tensor = (torch.from_numpy(state)\n",
        "                             .unsqueeze(dim=0)\n",
        "                             .to(self._device))\n",
        "            \n",
        "        # choose uniform at random if agent has insufficient experience\n",
        "        if not self.has_sufficient_experience():\n",
        "            action = self._uniform_random_policy(state_tensor)\n",
        "        else:\n",
        "            epsilon = self._epsilon_decay_schedule(self._number_episodes)\n",
        "            action = self._epsilon_greedy_policy(state_tensor, epsilon)\n",
        "        return action\n",
        "    \n",
        "    def has_sufficient_experience(self) -> bool:\n",
        "        \"\"\"True if agent has enough experience to train on a batch of samples; False otherwise.\"\"\"\n",
        "        return len(self._experience_replay_buffer) >= self._experience_replay_buffer.batch_size\n",
        "    \n",
        "    def save(self, filepath: str) -> None:\n",
        "        \"\"\"\n",
        "        Saves the state of the DeepQAgent.\n",
        "        \n",
        "        Parameters:\n",
        "        -----------\n",
        "        filepath (str): filepath where the serialized state should be saved.\n",
        "        \n",
        "        Notes:\n",
        "        ------\n",
        "        The method uses `torch.save` to serialize the state of the q-network, \n",
        "        the optimizer, as well as the dictionary of agent hyperparameters.\n",
        "        \n",
        "        \"\"\"\n",
        "        checkpoint = {\n",
        "            \"q-network-state\": self._local_q_network.state_dict(),\n",
        "            \"optimizer-state\": self._optimizer.state_dict(),\n",
        "            \"agent-hyperparameters\": {\n",
        "                \"alpha\": self._alpha,\n",
        "                \"batch_size\": self._experience_replay_buffer.batch_size,\n",
        "                \"buffer_size\": self._experience_replay_buffer.buffer_size,\n",
        "                \"gamma\": self._gamma,\n",
        "                \"update_frequency\": self._update_frequency\n",
        "            }\n",
        "        }\n",
        "        torch.save(checkpoint, filepath)\n",
        "        \n",
        "    def step(self, state: np.array, action: int, reward: float, next_state: np.array, done: bool) -> None:\n",
        "        \"\"\"\n",
        "        Updates the agent's state based on feedback received from the environment.\n",
        "        \n",
        "        Parameters:\n",
        "        -----------\n",
        "        state (np.array): the previous state of the environment.\n",
        "        action (int): the action taken by the agent in the previous state.\n",
        "        reward (float): the reward received from the environment.\n",
        "        next_state (np.array): the resulting state of the environment following the action.\n",
        "        done (bool): True is the training episode is finised; false otherwise.\n",
        "        \n",
        "        \"\"\"\n",
        "        # save experience in the experience replay buffer\n",
        "        experience = Experience(state, action, reward, next_state, done)\n",
        "        self._experience_replay_buffer.append(experience)\n",
        "            \n",
        "        if done:\n",
        "            self._number_episodes += 1\n",
        "        else:\n",
        "            self._number_timesteps += 1\n",
        "            \n",
        "            # every so often the agent should learn from experiences\n",
        "            if self._number_timesteps % self._update_frequency == 0 and self.has_sufficient_experience():\n",
        "                experiences = self._experience_replay_buffer.sample()\n",
        "                self._learn_from(experiences)\n"
      ],
      "execution_count": 9,
      "outputs": []
    },
    {
      "cell_type": "markdown",
      "metadata": {
        "id": "r_00EcQkc5kE",
        "colab_type": "text"
      },
      "source": [
        "#### Epsilon decay schedule\n",
        "\n",
        "In the DQN algorithm the agent chooses its action using an $\\epsilon$-greedy policy. When using an $\\epsilon$-greedy policy, with probability $\\epsilon$, the agent explores the state space by choosing an action uniformly at random from the set of feasible actions; with probability $1-\\epsilon$, the agent exploits its current knowledge by choosing the optimal action given that current state. \n",
        "\n",
        "As the agent learns and acquires additional knowledge about it environment it makes sense to *decrease* exploration and *increase* exploitation by decreasing $\\epsilon$. In practice, it isn't a good idea to decrease $\\epsilon$ to zero; instead one typically decreases $\\epsilon$ over time according to some schedule until it reaches some minimum value.\n",
        "\n",
        "The Deepmind researchers used a simple linear decay schedule and set a minimum value of $\\epsilon=0.1$. In the cell below I code up a linear decay schedule as well as a power decay schedule that I have seen used in many other practical applications."
      ]
    },
    {
      "cell_type": "code",
      "metadata": {
        "id": "H8k3KG-vc5kF",
        "colab_type": "code",
        "colab": {}
      },
      "source": [
        "def linear_decay_schedule(episode_number: int,\n",
        "                          slope: float,\n",
        "                          minimum_epsilon: float) -> float:\n",
        "    \"\"\"Simple linear decay schedule used in the Deepmind paper.\"\"\"\n",
        "    return max(1 - slope * episode_number, minimum_epsilon)\n",
        "\n",
        "def power_decay_schedule(episode_number: int,\n",
        "                         decay_factor: float,\n",
        "                         minimum_epsilon: float) -> float:\n",
        "    \"\"\"Power decay schedule found in other practical applications.\"\"\"\n",
        "    return max(decay_factor**episode_number, minimum_epsilon)\n",
        "\n",
        "_epsilon_decay_schedule_kwargs = {\n",
        "    \"decay_factor\": 0.995,\n",
        "    \"minimum_epsilon\": 1e-2,\n",
        "}\n",
        "epsilon_decay_schedule = lambda n: power_decay_schedule(n, **_epsilon_decay_schedule_kwargs)"
      ],
      "execution_count": 10,
      "outputs": []
    },
    {
      "cell_type": "markdown",
      "metadata": {
        "id": "aY7N9N3uc5kN",
        "colab_type": "text"
      },
      "source": [
        "#### Choosing an optimizer\n",
        "\n",
        "As is the case in training any neural network, the choice of optimizer and the tuning of its hyper-parameters (in particular the learning rate) is important. Here I am going to more or less follow the Minh et al 2015 paper and use the [RMSProp](https://pytorch.org/docs/stable/optim.html#torch.optim.RMSprop) optimizer."
      ]
    },
    {
      "cell_type": "code",
      "metadata": {
        "id": "lxAb-5wrc5kP",
        "colab_type": "code",
        "colab": {}
      },
      "source": [
        "_optimizer_kwargs = {\n",
        "    \"lr\": 5e-4,\n",
        "    \"alpha\": 0.99,\n",
        "    \"eps\": 1e-08,\n",
        "    \"weight_decay\": 0,\n",
        "    \"momentum\": 0,\n",
        "    \"centered\": False\n",
        "}\n",
        "optimizer_fn = lambda parameters: optim.RMSprop(parameters, **_optimizer_kwargs)"
      ],
      "execution_count": 11,
      "outputs": []
    },
    {
      "cell_type": "markdown",
      "metadata": {
        "id": "ex8i7ipqc5kW",
        "colab_type": "text"
      },
      "source": [
        "At this point I am ready to create an instance of the `DeepQAgent`."
      ]
    },
    {
      "cell_type": "code",
      "metadata": {
        "id": "kNFNnmAzc5kZ",
        "colab_type": "code",
        "colab": {}
      },
      "source": [
        "_agent_kwargs = {\n",
        "    \"state_size\": env.observation_space.shape[0],\n",
        "    \"action_size\": 2, \n",
        "    \"number_hidden_units\": 64,\n",
        "    \"optimizer_fn\": optimizer_fn,\n",
        "    \"epsilon_decay_schedule\": epsilon_decay_schedule,\n",
        "    \"batch_size\": 64,\n",
        "    \"buffer_size\": 100000,\n",
        "    \"alpha\": 1e-3,\n",
        "    \"gamma\": 0.99,\n",
        "    \"update_frequency\": 4,\n",
        "    \"seed\": None,\n",
        "}\n",
        "\n",
        "\n",
        "deep_q_agentl = DeepQAgent(**_agent_kwargs)\n",
        "deep_q_agentu = DeepQAgent(**_agent_kwargs)\n",
        "deep_q_agentr = DeepQAgent(**_agent_kwargs)\n",
        "deep_q_agentd = DeepQAgent(**_agent_kwargs)"
      ],
      "execution_count": 12,
      "outputs": []
    },
    {
      "cell_type": "markdown",
      "metadata": {
        "id": "K-OXulhCc5lJ",
        "colab_type": "text"
      },
      "source": [
        "### Training the `DeepQAgent`\n",
        "\n",
        "Now I am finally ready to train the `deep_q_agent`. The target score for the `LunarLander-v2` environment is 200 points on average for at least 100 consecutive episodes. If the `deep_q_agent` is able to \"solve\" the environment, then training will terminate early."
      ]
    },
    {
      "cell_type": "code",
      "metadata": {
        "id": "ciBNcVxrc5lL",
        "colab_type": "code",
        "colab": {
          "base_uri": "https://localhost:8080/",
          "height": 153
        },
        "outputId": "9bb4ff6e-7a40-4664-839f-b8b2571582f4"
      },
      "source": [
        "scores = train(deep_q_agentl,deep_q_agentu,deep_q_agentr,deep_q_agentd, env, \"checkpoint.pth\", number_episodes=2000, target_score=200)"
      ],
      "execution_count": 13,
      "outputs": [
        {
          "output_type": "stream",
          "text": [
            "Episode 100\tAverage Score: -155.05\n",
            "Episode 200\tAverage Score: -94.46\n",
            "Episode 300\tAverage Score: -62.65\n",
            "Episode 400\tAverage Score: -13.45\n",
            "Episode 500\tAverage Score: 74.15\n",
            "Episode 600\tAverage Score: 176.39\n",
            "\n",
            "Environment solved in 670 episodes!\tAverage Score: 201.19\n"
          ],
          "name": "stdout"
        }
      ]
    },
    {
      "cell_type": "code",
      "metadata": {
        "id": "41xWc_ZtvEVl",
        "colab_type": "code",
        "colab": {
          "base_uri": "https://localhost:8080/",
          "height": 122
        },
        "outputId": "86a80e85-b94d-41c0-a99f-b3d1631f2159"
      },
      "source": [
        "import numpy as np\n",
        "from google.colab import drive\n",
        "drive.mount('/content/drive')\n",
        "\n",
        "np.save('/content/drive/My Drive/db/dqn/LL/scores_cs_1st',scores)"
      ],
      "execution_count": 16,
      "outputs": [
        {
          "output_type": "stream",
          "text": [
            "Go to this URL in a browser: https://accounts.google.com/o/oauth2/auth?client_id=947318989803-6bn6qk8qdgf4n4g3pfee6491hc0brc4i.apps.googleusercontent.com&redirect_uri=urn%3aietf%3awg%3aoauth%3a2.0%3aoob&response_type=code&scope=email%20https%3a%2f%2fwww.googleapis.com%2fauth%2fdocs.test%20https%3a%2f%2fwww.googleapis.com%2fauth%2fdrive%20https%3a%2f%2fwww.googleapis.com%2fauth%2fdrive.photos.readonly%20https%3a%2f%2fwww.googleapis.com%2fauth%2fpeopleapi.readonly\n",
            "\n",
            "Enter your authorization code:\n",
            "··········\n",
            "Mounted at /content/drive\n"
          ],
          "name": "stdout"
        }
      ]
    },
    {
      "cell_type": "code",
      "metadata": {
        "id": "YEJQsx-Qc5lp",
        "colab_type": "code",
        "colab": {}
      },
      "source": [
        "import pandas as pd\n",
        "import matplotlib.pyplot as plt\n",
        "%matplotlib inline"
      ],
      "execution_count": 17,
      "outputs": []
    },
    {
      "cell_type": "code",
      "metadata": {
        "id": "7CelfcJ6c5ly",
        "colab_type": "code",
        "colab": {}
      },
      "source": [
        "scores = pd.Series(scores, name=\"scores\")"
      ],
      "execution_count": 18,
      "outputs": []
    },
    {
      "cell_type": "code",
      "metadata": {
        "id": "Ta2h2tEhc5l6",
        "colab_type": "code",
        "colab": {
          "base_uri": "https://localhost:8080/",
          "height": 170
        },
        "outputId": "16446ada-b987-4150-8af5-629767224ec6"
      },
      "source": [
        "scores.describe()"
      ],
      "execution_count": 19,
      "outputs": [
        {
          "output_type": "execute_result",
          "data": {
            "text/plain": [
              "count    671.000000\n",
              "mean       9.571663\n",
              "std      152.253236\n",
              "min     -483.267038\n",
              "25%      -83.542813\n",
              "50%       -2.552036\n",
              "75%      147.522446\n",
              "max      317.854118\n",
              "Name: scores, dtype: float64"
            ]
          },
          "metadata": {
            "tags": []
          },
          "execution_count": 19
        }
      ]
    },
    {
      "cell_type": "code",
      "metadata": {
        "id": "95vX1gAIc5mB",
        "colab_type": "code",
        "colab": {
          "base_uri": "https://localhost:8080/",
          "height": 279
        },
        "outputId": "0c4c6bb1-c595-4f6e-c9c6-83680c006df8"
      },
      "source": [
        "fig, ax = plt.subplots(1, 1)\n",
        "_ = scores.plot(ax=ax, label=\"Scores\")\n",
        "_ = (scores.rolling(window=100)\n",
        "           .mean()\n",
        "           .rename(\"Rolling Average\")\n",
        "           .plot(ax=ax))\n",
        "ax.axhline(200, color='k', linestyle=\"dashed\", label=\"Target Score\")\n",
        "ax.legend()\n",
        "_ = ax.set_xlabel(\"Episode Number\")\n",
        "_ = ax.set_ylabel(\"Score\")\n"
      ],
      "execution_count": 20,
      "outputs": [
        {
          "output_type": "display_data",
          "data": {
            "image/png": "[encoded data removed]",
            "text/plain": [
              "<Figure size 432x288 with 1 Axes>"
            ]
          },
          "metadata": {
            "tags": [],
            "needs_background": "light"
          }
        }
      ]
    },
    {
      "cell_type": "markdown",
      "metadata": {
        "id": "RKZwI4NJc5mL",
        "colab_type": "text"
      },
      "source": [
        "#### Kernel density plot of the scores\n",
        "\n",
        "Kernel density plot of scores is bimodal with one mode less than -100 and a second mode greater than 200. The negative mode corresponds to those training episodes where the agent crash landed and thus scored at most -100; the positive mode corresponds to those training episodes where the agent \"solved\" the task. The kernel density or scores typically exhibits negative skewness (i.e., a fat left tail): there are lots of ways in which landing the lander can go horribly wrong (resulting in the agent getting a very low score) and only relatively few paths to a gentle landing (and a high score)."
      ]
    },
    {
      "cell_type": "code",
      "metadata": {
        "id": "Hz_4EBljc5mM",
        "colab_type": "code",
        "colab": {
          "base_uri": "https://localhost:8080/",
          "height": 279
        },
        "outputId": "06df62d2-101a-47ba-b070-2548b3a7a3dc"
      },
      "source": [
        "fig, ax = plt.subplots(1,1)\n",
        "_ = scores.plot(kind=\"kde\", ax=ax)\n",
        "_ = ax.set_xlabel(\"Score\")"
      ],
      "execution_count": 21,
      "outputs": [
        {
          "output_type": "display_data",
          "data": {
            "image/png": "[encoded data removed]",
            "text/plain": [
              "<Figure size 432x288 with 1 Axes>"
            ]
          },
          "metadata": {
            "tags": [],
            "needs_background": "light"
          }
        }
      ]
    },
    {
      "cell_type": "markdown",
      "metadata": {
        "id": "kGn1dFk2c5mV",
        "colab_type": "text"
      },
      "source": [
        "## Where to go from here?\n",
        "\n",
        "I am a bit frustrated by lack of stability that I am seeing in my implmentation of the Deep Q algorithm: sometimes the algorithm converges and sometimes not. Perhaps more tuning of hyper-parameters or use of a different optimization algorithm would exhibit better convergence. I have already spent more time than I had allocated on playing around with this agorithm so I am not going to try and fine-tune the hyperparamters or explore alternative optimization algorithms for now.\n",
        "\n",
        "Rather than spending time tuning hyperparameters I think it would be better use of my time to explore algorithmic improvements. In future posts I plan to cover the following extensions of the DQN algorithm: [Double Q-Learning](https://arxiv.org/abs/1509.06461), [Prioritized Experience Replay](https://arxiv.org/abs/1509.06461), and [Dueling Network Architectures](https://arxiv.org/abs/1511.06581)"
      ]
    }
  ]
}