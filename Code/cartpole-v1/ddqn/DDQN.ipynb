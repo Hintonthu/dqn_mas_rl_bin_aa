{
  "nbformat": 4,
  "nbformat_minor": 0,
  "metadata": {
    "kernelspec": {
      "name": "python3",
      "display_name": "Python 3"
    },
    "colab": {
      "name": "DDQN.ipynb",
      "provenance": [],
      "collapsed_sections": []
    }
  },
  "cells": [
    {
      "cell_type": "markdown",
      "metadata": {
        "id": "nFCDYptQl7xw",
        "colab_type": "text"
      },
      "source": [
        "# Double Deep Q-Network"
      ]
    },
    {
      "cell_type": "markdown",
      "metadata": {
        "id": "qmKwkKc8l7x2",
        "colab_type": "text"
      },
      "source": [
        "In 2016, Google DeepMind ([Link](https://www.aaai.org/ocs/index.php/AAAI/AAAI16/paper/download/12389/11847)) decided to alter the DQN algorithm the same way the original Q-Learner algorithm was updated by adding a second network. The team found that the overestimation that affected the q-learner also affected the DQN algoritm. When the original double q-learner was introduced they proved that it worked in that setting and in this paper they prove it can be generalized to work with large scale function approximation."
      ]
    },
    {
      "cell_type": "markdown",
      "metadata": {
        "collapsed": true,
        "id": "03jJ9lXgl7x4",
        "colab_type": "text"
      },
      "source": [
        "**Summary**  \n",
        "This algorithm combines the benefits of the Double Q-Learner as the benefits of deep learning. We get the function approximation so that we can have a continuous state space plus we keep from having the overestimation from Q-Learning. This document will be a combination of the DQN and Double Q-Learner so it will be mostly review. But, this algorithm is so much more powerful that you should explore the other gyms at OpenAI and see what you can solve.  \n",
        "\n",
        "One thing to note, we need to update the weights of the second neural network with the weights from the first neural network. We didn't do this in the Double Q-Learner since the tables were both getting updated."
      ]
    },
    {
      "cell_type": "markdown",
      "metadata": {
        "id": "6I3zr2ajl7x7",
        "colab_type": "text"
      },
      "source": [
        "**CartPole Example**  \n",
        "Again we will use the [CartPole](https://gym.openai.com/envs/CartPole-v1/) environment from OpenAI.  \n",
        "\n",
        "The actions are 0 to push the cart to the left and 1 to push the cart to the right.  \n",
        "\n",
        "The continuous state space is an X coordinate for location, the velocity of the cart, the angle of the pole, and the velocity at the tip of the pole. The X coordinate goes from -4.8 to +4.8, velocity is -Inf to +Inf, angle of the pole goes from -24 degrees to +24 degrees, tip velocity is -Inf to +Inf. With all of the possible combinations you can see why we can't create a Q table for each one.  \n",
        "\n",
        "To \"solve\" this puzzle you have to have an average reward of > 195 over 100 consecutive episodes. One thing to note, I am hard capping the rewards at 210 so this number can't average above that and it also could potentially drive the average down."
      ]
    },
    {
      "cell_type": "code",
      "metadata": {
        "id": "-lZPwAxel7x9",
        "colab_type": "code",
        "colab": {
          "base_uri": "https://localhost:8080/",
          "height": 34
        },
        "outputId": "dc65059c-2996-4b1b-9c4e-3c08c70cbb29"
      },
      "source": [
        "#Imports and gym creation\n",
        "import gym\n",
        "import numpy as np\n",
        "import matplotlib.pyplot as plt\n",
        "from collections import deque\n",
        "import tensorflow as tf\n",
        "from tensorflow import keras\n",
        "#from keras.models import Sequential\n",
        "#from keras.layers import Dense\n",
        "#from keras.optimizers import Adam\n",
        "import random\n",
        "\n",
        "#Create Gym\n",
        "from gym import wrappers\n",
        "envCartPole = gym.make('CartPole-v1')\n",
        "envCartPole.seed(50)"
      ],
      "execution_count": 1,
      "outputs": [
        {
          "output_type": "execute_result",
          "data": {
            "text/plain": [
              "[50]"
            ]
          },
          "metadata": {
            "tags": []
          },
          "execution_count": 1
        }
      ]
    },
    {
      "cell_type": "code",
      "metadata": {
        "id": "5VGDdEytl7yK",
        "colab_type": "code",
        "colab": {}
      },
      "source": [
        "EPISODES = 500\n",
        "TRAIN_END = 0"
      ],
      "execution_count": 2,
      "outputs": []
    },
    {
      "cell_type": "code",
      "metadata": {
        "id": "BtS6cFn3l7yS",
        "colab_type": "code",
        "colab": {}
      },
      "source": [
        "def discount_rate(): #Gamma\n",
        "    return 0.95\n",
        "\n",
        "def learning_rate(): #Alpha\n",
        "    return 0.001\n",
        "\n",
        "def batch_size():\n",
        "    return 24"
      ],
      "execution_count": 3,
      "outputs": []
    },
    {
      "cell_type": "markdown",
      "metadata": {
        "id": "UR9pYntLl7ym",
        "colab_type": "text"
      },
      "source": [
        "**Double Deep Q-Network Class**  \n",
        "This class is the same as the DQN class from the last notebook with a few exceptions.  \n",
        "**init**:  \n",
        "&nbsp;&nbsp;&nbsp;&nbsp;&nbsp;We create a second NN for the target network  \n",
        "\n",
        "**update_target_from_model(self)**  \n",
        "&nbsp;&nbsp;&nbsp;&nbsp;&nbsp;This class updates the weights of the target NN from the model NN\n",
        "\n",
        "**build_model(self)**:  \n",
        "**action(self,state)**:  \n",
        "**test_action(self,state)**:  \n",
        "**store(self, state, action, reward, nstate, done)**:  \n",
        "&nbsp;&nbsp;&nbsp;&nbsp;&nbsp;Same  \n",
        "\n",
        "**experience_replay(self, batch_size)**:  \n",
        "&nbsp;&nbsp;&nbsp;&nbsp;&nbsp;This class has the Double DQN changes. We grab the prediction targets from the target NN and then use that in the Q update rule.    "
      ]
    },
    {
      "cell_type": "code",
      "metadata": {
        "id": "xDZtfUW0l7yn",
        "colab_type": "code",
        "colab": {}
      },
      "source": [
        "class DoubleDeepQNetwork():\n",
        "    def __init__(self, states, actions, alpha, gamma, epsilon,epsilon_min, epsilon_decay):\n",
        "        self.nS = states\n",
        "        self.nA = actions\n",
        "        self.memory = deque([], maxlen=2500)\n",
        "        self.alpha = alpha\n",
        "        self.gamma = gamma\n",
        "        #Explore/Exploit\n",
        "        self.epsilon = epsilon\n",
        "        self.epsilon_min = epsilon_min\n",
        "        self.epsilon_decay = epsilon_decay\n",
        "        self.model = self.build_model()\n",
        "        self.model_target = self.build_model() #Second (target) neural network\n",
        "        self.update_target_from_model() #Update weights\n",
        "        self.loss = []\n",
        "        \n",
        "    def build_model(self):\n",
        "        model = keras.Sequential() #linear stack of layers https://keras.io/models/sequential/\n",
        "        model.add(keras.layers.Dense(24, input_dim=self.nS, activation='relu')) #[Input] -> Layer 1\n",
        "        #   Dense: Densely connected layer https://keras.io/layers/core/\n",
        "        #   24: Number of neurons\n",
        "        #   input_dim: Number of input variables\n",
        "        #   activation: Rectified Linear Unit (relu) ranges >= 0\n",
        "        model.add(keras.layers.Dense(24, activation='relu')) #Layer 2 -> 3\n",
        "        model.add(keras.layers.Dense(self.nA, activation='linear')) #Layer 3 -> [output]\n",
        "        #   Size has to match the output (different actions)\n",
        "        #   Linear activation on the last layer\n",
        "        model.compile(loss='mean_squared_error', #Loss function: Mean Squared Error\n",
        "                      optimizer=keras.optimizers.Adam(lr=self.alpha)) #Optimaizer: Adam (Feel free to check other options)\n",
        "        return model\n",
        "\n",
        "    def update_target_from_model(self):\n",
        "        #Update the target model from the base model\n",
        "        self.model_target.set_weights( self.model.get_weights() )\n",
        "\n",
        "    def action(self, state):\n",
        "        if np.random.rand() <= self.epsilon:\n",
        "            return random.randrange(self.nA) #Explore\n",
        "        action_vals = self.model.predict(state) #Exploit: Use the NN to predict the correct action from this state\n",
        "        return np.argmax(action_vals[0])\n",
        "\n",
        "    def test_action(self, state): #Exploit\n",
        "        action_vals = self.model.predict(state)\n",
        "        return np.argmax(action_vals[0])\n",
        "\n",
        "    def store(self, state, action, reward, nstate, done):\n",
        "        #Store the experience in memory\n",
        "        self.memory.append( (state, action, reward, nstate, done) )\n",
        "\n",
        "    def experience_replay(self, batch_size):\n",
        "        #Execute the experience replay\n",
        "        minibatch = random.sample( self.memory, batch_size ) #Randomly sample from memory\n",
        "\n",
        "        #Convert to numpy for speed by vectorization\n",
        "        x = []\n",
        "        y = []\n",
        "        np_array = np.array(minibatch)\n",
        "        st = np.zeros((0,self.nS)) #States\n",
        "        nst = np.zeros( (0,self.nS) )#Next States\n",
        "        for i in range(len(np_array)): #Creating the state and next state np arrays\n",
        "            st = np.append( st, np_array[i,0], axis=0)\n",
        "            nst = np.append( nst, np_array[i,3], axis=0)\n",
        "        st_predict = self.model.predict(st) #Here is the speedup! I can predict on the ENTIRE batch\n",
        "        nst_predict = self.model.predict(nst)\n",
        "        nst_predict_target = self.model_target.predict(nst) #Predict from the TARGET\n",
        "        index = 0\n",
        "        for state, action, reward, nstate, done in minibatch:\n",
        "            x.append(state)\n",
        "            #Predict from state\n",
        "            nst_action_predict_target = nst_predict_target[index]\n",
        "            nst_action_predict_model = nst_predict[index]\n",
        "            if done == True: #Terminal: Just assign reward much like {* (not done) - QB[state][action]}\n",
        "                target = reward\n",
        "            else:   #Non terminal\n",
        "                target = reward + self.gamma * nst_action_predict_target[np.argmax(nst_action_predict_model)] #Using Q to get T is Double DQN\n",
        "            target_f = st_predict[index]\n",
        "            target_f[action] = target\n",
        "            y.append(target_f)\n",
        "            index += 1\n",
        "        #Reshape for Keras Fit\n",
        "        x_reshape = np.array(x).reshape(batch_size,self.nS)\n",
        "        y_reshape = np.array(y)\n",
        "        epoch_count = 1\n",
        "        hist = self.model.fit(x_reshape, y_reshape, epochs=epoch_count, verbose=0)\n",
        "        #Graph Losses\n",
        "        for i in range(epoch_count):\n",
        "            self.loss.append( hist.history['loss'][i] )\n",
        "        #Decay Epsilon\n",
        "        if self.epsilon > self.epsilon_min:\n",
        "            self.epsilon *= self.epsilon_decay"
      ],
      "execution_count": 4,
      "outputs": []
    },
    {
      "cell_type": "code",
      "metadata": {
        "id": "-KiANrlYl7ys",
        "colab_type": "code",
        "colab": {}
      },
      "source": [
        "#Create the agents\n",
        "nS = envCartPole.observation_space.shape[0] #This is only 4\n",
        "nA = envCartPole.action_space.n #Actions\n",
        "dqn = DoubleDeepQNetwork(nS, nA, learning_rate(), discount_rate(), 1, 0.001, 0.995 )\n",
        "\n",
        "batch_size = batch_size()"
      ],
      "execution_count": 5,
      "outputs": []
    },
    {
      "cell_type": "code",
      "metadata": {
        "id": "6XdxLERIl7yy",
        "colab_type": "code",
        "colab": {
          "base_uri": "https://localhost:8080/",
          "height": 1000
        },
        "outputId": "c68f3d5d-36d5-4f74-ccc6-9fa7cd5ae6e4"
      },
      "source": [
        "#Training\n",
        "rewards = [] #Store rewards for graphing\n",
        "epsilons = [] # Store the Explore/Exploit\n",
        "TEST_Episodes = 0\n",
        "for e in range(EPISODES):\n",
        "    state = envCartPole.reset()\n",
        "    state = np.reshape(state, [1, nS]) # Resize to store in memory to pass to .predict\n",
        "    tot_rewards = 0\n",
        "    for time in range(210): #200 is when you \"solve\" the game. This can continue forever as far as I know\n",
        "        action = dqn.action(state)\n",
        "        nstate, reward, done, _ = envCartPole.step(action)\n",
        "        nstate = np.reshape(nstate, [1, nS])\n",
        "        tot_rewards += reward\n",
        "        dqn.store(state, action, reward, nstate, done) # Resize to store in memory to pass to .predict\n",
        "        state = nstate\n",
        "        #done: CartPole fell. \n",
        "        #time == 209: CartPole stayed upright\n",
        "        if done or time == 209:\n",
        "            rewards.append(tot_rewards)\n",
        "            epsilons.append(dqn.epsilon)\n",
        "            print(\"episode: {}/{}, score: {}, e: {}\"\n",
        "                  .format(e, EPISODES, tot_rewards, dqn.epsilon))\n",
        "            break\n",
        "        #Experience Replay\n",
        "        if len(dqn.memory) > batch_size:\n",
        "            dqn.experience_replay(batch_size)\n",
        "    #Update the weights after each episode (You can configure this for x steps as well\n",
        "    dqn.update_target_from_model()\n",
        "    #If our current NN passes we are done\n",
        "    #I am going to use the last 5 runs\n",
        "    if len(rewards) > 5 and np.average(rewards[-5:]) > 195:\n",
        "        #Set the rest of the EPISODES for testing\n",
        "        TEST_Episodes = EPISODES - e\n",
        "        TRAIN_END = e\n",
        "        break"
      ],
      "execution_count": 6,
      "outputs": [
        {
          "output_type": "stream",
          "text": [
            "episode: 0/500, score: 15.0, e: 1\n",
            "episode: 1/500, score: 32.0, e: 0.8955869907338783\n",
            "episode: 2/500, score: 17.0, e: 0.8265651079747222\n",
            "episode: 3/500, score: 10.0, e: 0.7901049725470279\n",
            "episode: 4/500, score: 19.0, e: 0.7219385759785162\n",
            "episode: 5/500, score: 13.0, e: 0.6797938283326578\n",
            "episode: 6/500, score: 13.0, e: 0.6401093727576664\n",
            "episode: 7/500, score: 25.0, e: 0.567555222460375\n",
            "episode: 8/500, score: 12.0, e: 0.5371084840724134\n",
            "episode: 9/500, score: 10.0, e: 0.5134164023722473\n",
            "episode: 10/500, score: 9.0, e: 0.4932355662165453\n",
            "episode: 11/500, score: 13.0, e: 0.46444185833082485\n",
            "episode: 12/500, score: 12.0, e: 0.43952667968844233\n",
            "episode: 13/500, score: 9.0, e: 0.4222502236424958\n",
            "episode: 14/500, score: 10.0, e: 0.4036245882390106\n",
            "episode: 15/500, score: 12.0, e: 0.3819719776053028\n",
            "episode: 16/500, score: 9.0, e: 0.3669578217261671\n",
            "episode: 17/500, score: 10.0, e: 0.3507711574848344\n",
            "episode: 18/500, score: 8.0, e: 0.3386767948568688\n",
            "episode: 19/500, score: 9.0, e: 0.3253644408394192\n",
            "episode: 20/500, score: 10.0, e: 0.31101247816653554\n",
            "episode: 21/500, score: 11.0, e: 0.29580711868545667\n",
            "episode: 22/500, score: 14.0, e: 0.27714603575484437\n",
            "episode: 23/500, score: 10.0, e: 0.2649210072611673\n",
            "episode: 24/500, score: 8.0, e: 0.25578670228422234\n",
            "episode: 25/500, score: 13.0, e: 0.2408545925762412\n",
            "episode: 26/500, score: 15.0, e: 0.22453190559909803\n",
            "episode: 27/500, score: 10.0, e: 0.21462770857094118\n",
            "episode: 28/500, score: 8.0, e: 0.20722748400265262\n",
            "episode: 29/500, score: 14.0, e: 0.19415447453059972\n",
            "episode: 30/500, score: 12.0, e: 0.18373897616330553\n",
            "episode: 31/500, score: 14.0, e: 0.17214774642209296\n",
            "episode: 32/500, score: 11.0, e: 0.16373146555890544\n",
            "episode: 33/500, score: 10.0, e: 0.15650920157696743\n",
            "episode: 34/500, score: 11.0, e: 0.14885748713096328\n",
            "episode: 35/500, score: 14.0, e: 0.13946676683816583\n",
            "episode: 36/500, score: 11.0, e: 0.13264825480308728\n",
            "episode: 37/500, score: 8.0, e: 0.12807462877562611\n",
            "episode: 38/500, score: 9.0, e: 0.12304040492325048\n",
            "episode: 39/500, score: 10.0, e: 0.1176130407830293\n",
            "episode: 40/500, score: 15.0, e: 0.10964241905397228\n",
            "episode: 41/500, score: 21.0, e: 0.09918368135888474\n",
            "episode: 42/500, score: 9.0, e: 0.09528507271768329\n",
            "episode: 43/500, score: 18.0, e: 0.08750185146499175\n",
            "episode: 44/500, score: 23.0, e: 0.07836551983717477\n",
            "episode: 45/500, score: 16.0, e: 0.07268942442628039\n",
            "episode: 46/500, score: 16.0, e: 0.06742445445908266\n",
            "episode: 47/500, score: 14.0, e: 0.06317096204211972\n",
            "episode: 48/500, score: 16.0, e: 0.058595424120670696\n",
            "episode: 49/500, score: 29.0, e: 0.05092252885731386\n",
            "episode: 50/500, score: 9.0, e: 0.04892091923449087\n",
            "episode: 51/500, score: 8.0, e: 0.047234157581800176\n",
            "episode: 52/500, score: 45.0, e: 0.0378853869148274\n",
            "episode: 53/500, score: 11.0, e: 0.036033175291307735\n",
            "episode: 54/500, score: 10.0, e: 0.034443736736092176\n",
            "episode: 55/500, score: 134.0, e: 0.017683979399301233\n",
            "episode: 56/500, score: 37.0, e: 0.01476423357148172\n",
            "episode: 57/500, score: 50.0, e: 0.01154893304942575\n",
            "episode: 58/500, score: 36.0, e: 0.009690578183705511\n",
            "episode: 59/500, score: 47.0, e: 0.0076950492560818795\n",
            "episode: 60/500, score: 23.0, e: 0.006891586006803337\n",
            "episode: 61/500, score: 31.0, e: 0.005929411657474116\n",
            "episode: 62/500, score: 43.0, e: 0.004803756600407726\n",
            "episode: 63/500, score: 44.0, e: 0.003872339856794843\n",
            "episode: 64/500, score: 57.0, e: 0.002924596716205228\n",
            "episode: 65/500, score: 92.0, e: 0.0018533879534277063\n",
            "episode: 66/500, score: 69.0, e: 0.0013180619611012898\n",
            "episode: 67/500, score: 77.0, e: 0.0009954703940636294\n",
            "episode: 68/500, score: 63.0, e: 0.0009954703940636294\n",
            "episode: 69/500, score: 57.0, e: 0.0009954703940636294\n",
            "episode: 70/500, score: 52.0, e: 0.0009954703940636294\n",
            "episode: 71/500, score: 50.0, e: 0.0009954703940636294\n",
            "episode: 72/500, score: 88.0, e: 0.0009954703940636294\n",
            "episode: 73/500, score: 121.0, e: 0.0009954703940636294\n",
            "episode: 74/500, score: 63.0, e: 0.0009954703940636294\n",
            "episode: 75/500, score: 105.0, e: 0.0009954703940636294\n",
            "episode: 76/500, score: 90.0, e: 0.0009954703940636294\n",
            "episode: 77/500, score: 84.0, e: 0.0009954703940636294\n",
            "episode: 78/500, score: 77.0, e: 0.0009954703940636294\n",
            "episode: 79/500, score: 130.0, e: 0.0009954703940636294\n",
            "episode: 80/500, score: 118.0, e: 0.0009954703940636294\n",
            "episode: 81/500, score: 76.0, e: 0.0009954703940636294\n",
            "episode: 82/500, score: 93.0, e: 0.0009954703940636294\n",
            "episode: 83/500, score: 102.0, e: 0.0009954703940636294\n",
            "episode: 84/500, score: 89.0, e: 0.0009954703940636294\n",
            "episode: 85/500, score: 210.0, e: 0.0009954703940636294\n",
            "episode: 86/500, score: 137.0, e: 0.0009954703940636294\n",
            "episode: 87/500, score: 155.0, e: 0.0009954703940636294\n",
            "episode: 88/500, score: 178.0, e: 0.0009954703940636294\n",
            "episode: 89/500, score: 186.0, e: 0.0009954703940636294\n",
            "episode: 90/500, score: 156.0, e: 0.0009954703940636294\n",
            "episode: 91/500, score: 210.0, e: 0.0009954703940636294\n",
            "episode: 92/500, score: 210.0, e: 0.0009954703940636294\n",
            "episode: 93/500, score: 210.0, e: 0.0009954703940636294\n",
            "episode: 94/500, score: 210.0, e: 0.0009954703940636294\n"
          ],
          "name": "stdout"
        }
      ]
    },
    {
      "cell_type": "code",
      "metadata": {
        "id": "sOJOCs1zl7y4",
        "colab_type": "code",
        "colab": {
          "base_uri": "https://localhost:8080/",
          "height": 1000
        },
        "outputId": "3b877c4f-1c77-46ca-d9bb-8dd8945edff4"
      },
      "source": [
        "#Testing\n",
        "print('Training complete. Testing started...')\n",
        "TEST_Episodes=100\n",
        "#TEST Time\n",
        "#   In this section we ALWAYS use exploit don't train any more\n",
        "for e_test in range(TEST_Episodes):\n",
        "    state = envCartPole.reset()\n",
        "    state = np.reshape(state, [1, nS])\n",
        "    tot_rewards = 0\n",
        "    for t_test in range(210):\n",
        "        action = dqn.test_action(state)\n",
        "        nstate, reward, done, _ = envCartPole.step(action)\n",
        "        nstate = np.reshape( nstate, [1, nS])\n",
        "        tot_rewards += reward\n",
        "        #DON'T STORE ANYTHING DURING TESTING\n",
        "        state = nstate\n",
        "        #done: CartPole fell. \n",
        "        #t_test == 209: CartPole stayed upright\n",
        "        if done or t_test == 209: \n",
        "            rewards.append(tot_rewards)\n",
        "            epsilons.append(0) #We are doing full exploit\n",
        "            print(\"episode: {}/{}, score: {}, e: {}\"\n",
        "                  .format(e_test, TEST_Episodes, tot_rewards, 0))\n",
        "            break;"
      ],
      "execution_count": 10,
      "outputs": [
        {
          "output_type": "stream",
          "text": [
            "Training complete. Testing started...\n",
            "episode: 0/100, score: 210.0, e: 0\n",
            "episode: 1/100, score: 210.0, e: 0\n",
            "episode: 2/100, score: 210.0, e: 0\n",
            "episode: 3/100, score: 210.0, e: 0\n",
            "episode: 4/100, score: 210.0, e: 0\n",
            "episode: 5/100, score: 210.0, e: 0\n",
            "episode: 6/100, score: 210.0, e: 0\n",
            "episode: 7/100, score: 210.0, e: 0\n",
            "episode: 8/100, score: 210.0, e: 0\n",
            "episode: 9/100, score: 210.0, e: 0\n",
            "episode: 10/100, score: 210.0, e: 0\n",
            "episode: 11/100, score: 210.0, e: 0\n",
            "episode: 12/100, score: 210.0, e: 0\n",
            "episode: 13/100, score: 210.0, e: 0\n",
            "episode: 14/100, score: 210.0, e: 0\n",
            "episode: 15/100, score: 210.0, e: 0\n",
            "episode: 16/100, score: 210.0, e: 0\n",
            "episode: 17/100, score: 210.0, e: 0\n",
            "episode: 18/100, score: 210.0, e: 0\n",
            "episode: 19/100, score: 210.0, e: 0\n",
            "episode: 20/100, score: 210.0, e: 0\n",
            "episode: 21/100, score: 210.0, e: 0\n",
            "episode: 22/100, score: 210.0, e: 0\n",
            "episode: 23/100, score: 210.0, e: 0\n",
            "episode: 24/100, score: 210.0, e: 0\n",
            "episode: 25/100, score: 210.0, e: 0\n",
            "episode: 26/100, score: 210.0, e: 0\n",
            "episode: 27/100, score: 210.0, e: 0\n",
            "episode: 28/100, score: 210.0, e: 0\n",
            "episode: 29/100, score: 210.0, e: 0\n",
            "episode: 30/100, score: 210.0, e: 0\n",
            "episode: 31/100, score: 210.0, e: 0\n",
            "episode: 32/100, score: 210.0, e: 0\n",
            "episode: 33/100, score: 210.0, e: 0\n",
            "episode: 34/100, score: 210.0, e: 0\n",
            "episode: 35/100, score: 210.0, e: 0\n",
            "episode: 36/100, score: 210.0, e: 0\n",
            "episode: 37/100, score: 210.0, e: 0\n",
            "episode: 38/100, score: 210.0, e: 0\n",
            "episode: 39/100, score: 210.0, e: 0\n",
            "episode: 40/100, score: 210.0, e: 0\n",
            "episode: 41/100, score: 210.0, e: 0\n",
            "episode: 42/100, score: 210.0, e: 0\n",
            "episode: 43/100, score: 210.0, e: 0\n",
            "episode: 44/100, score: 210.0, e: 0\n",
            "episode: 45/100, score: 210.0, e: 0\n",
            "episode: 46/100, score: 210.0, e: 0\n",
            "episode: 47/100, score: 210.0, e: 0\n",
            "episode: 48/100, score: 210.0, e: 0\n",
            "episode: 49/100, score: 210.0, e: 0\n",
            "episode: 50/100, score: 210.0, e: 0\n",
            "episode: 51/100, score: 210.0, e: 0\n",
            "episode: 52/100, score: 210.0, e: 0\n",
            "episode: 53/100, score: 210.0, e: 0\n",
            "episode: 54/100, score: 210.0, e: 0\n",
            "episode: 55/100, score: 210.0, e: 0\n",
            "episode: 56/100, score: 210.0, e: 0\n",
            "episode: 57/100, score: 210.0, e: 0\n",
            "episode: 58/100, score: 210.0, e: 0\n",
            "episode: 59/100, score: 210.0, e: 0\n",
            "episode: 60/100, score: 210.0, e: 0\n",
            "episode: 61/100, score: 210.0, e: 0\n",
            "episode: 62/100, score: 210.0, e: 0\n",
            "episode: 63/100, score: 210.0, e: 0\n",
            "episode: 64/100, score: 210.0, e: 0\n",
            "episode: 65/100, score: 210.0, e: 0\n",
            "episode: 66/100, score: 210.0, e: 0\n",
            "episode: 67/100, score: 210.0, e: 0\n",
            "episode: 68/100, score: 210.0, e: 0\n",
            "episode: 69/100, score: 210.0, e: 0\n",
            "episode: 70/100, score: 210.0, e: 0\n",
            "episode: 71/100, score: 210.0, e: 0\n",
            "episode: 72/100, score: 210.0, e: 0\n",
            "episode: 73/100, score: 210.0, e: 0\n",
            "episode: 74/100, score: 210.0, e: 0\n",
            "episode: 75/100, score: 210.0, e: 0\n",
            "episode: 76/100, score: 210.0, e: 0\n",
            "episode: 77/100, score: 210.0, e: 0\n",
            "episode: 78/100, score: 210.0, e: 0\n",
            "episode: 79/100, score: 210.0, e: 0\n",
            "episode: 80/100, score: 210.0, e: 0\n",
            "episode: 81/100, score: 210.0, e: 0\n",
            "episode: 82/100, score: 210.0, e: 0\n",
            "episode: 83/100, score: 210.0, e: 0\n",
            "episode: 84/100, score: 210.0, e: 0\n",
            "episode: 85/100, score: 210.0, e: 0\n",
            "episode: 86/100, score: 210.0, e: 0\n",
            "episode: 87/100, score: 210.0, e: 0\n",
            "episode: 88/100, score: 210.0, e: 0\n",
            "episode: 89/100, score: 210.0, e: 0\n",
            "episode: 90/100, score: 210.0, e: 0\n",
            "episode: 91/100, score: 210.0, e: 0\n",
            "episode: 92/100, score: 210.0, e: 0\n",
            "episode: 93/100, score: 210.0, e: 0\n",
            "episode: 94/100, score: 210.0, e: 0\n",
            "episode: 95/100, score: 210.0, e: 0\n",
            "episode: 96/100, score: 210.0, e: 0\n",
            "episode: 97/100, score: 210.0, e: 0\n",
            "episode: 98/100, score: 210.0, e: 0\n",
            "episode: 99/100, score: 210.0, e: 0\n"
          ],
          "name": "stdout"
        }
      ]
    },
    {
      "cell_type": "markdown",
      "metadata": {
        "id": "R9RA93KWl7y_",
        "colab_type": "text"
      },
      "source": [
        "**Results**  \n",
        "Here is a graph of the results. If everything was done correctly you should see the rewards over the red line.  \n",
        "\n",
        "Black: This is the 100 episode rolling average  \n",
        "Red: This is the \"solved\" line at 195  \n",
        "Blue: This is the reward for each episode  \n",
        "Green: This is the value of epsilon scaled by 200  \n",
        "Yellow: This is where the tests started."
      ]
    },
    {
      "cell_type": "code",
      "metadata": {
        "id": "H_0FrVCWl7zA",
        "colab_type": "code",
        "colab": {
          "base_uri": "https://localhost:8080/",
          "height": 265
        },
        "outputId": "1fc0dc81-4fd1-4ac2-b6f8-74cdc7810e02"
      },
      "source": [
        "#Plotting\n",
        "rolling_average = np.convolve(rewards, np.ones(100)/100)\n",
        "\n",
        "plt.plot(rewards)\n",
        "plt.plot(rolling_average, color='black')\n",
        "plt.axhline(y=195, color='r', linestyle='-') #Solved Line\n",
        "#Scale Epsilon (0.001 - 1.0) to match reward (0 - 200) range\n",
        "eps_graph = [200*x for x in epsilons]\n",
        "plt.plot(eps_graph, color='g', linestyle='-')\n",
        "#Plot the line where TESTING begins\n",
        "plt.axvline(x=TRAIN_END, color='y', linestyle='-')\n",
        "plt.xlim( (0,200) )\n",
        "plt.ylim( (0,220) )\n",
        "plt.show()"
      ],
      "execution_count": 12,
      "outputs": [
        {
          "output_type": "display_data",
          "data": {
            "image/png": "[encoded data removed]",
            "text/plain": [
              "<Figure size 432x288 with 1 Axes>"
            ]
          },
          "metadata": {
            "tags": [],
            "needs_background": "light"
          }
        }
      ]
    },
    {
      "cell_type": "code",
      "metadata": {
        "id": "7g_uzIBAy2xE",
        "colab_type": "code",
        "colab": {
          "base_uri": "https://localhost:8080/",
          "height": 34
        },
        "outputId": "333f0dd4-6e43-4d8e-d7af-7266568f46b2"
      },
      "source": [
        "from google.colab import drive\n",
        "drive.mount('/content/drive')\n",
        "\n",
        "np.save('/content/drive/My Drive/db/dqn/ddqn/rewards',rewards)\n",
        "np.save('/content/drive/My Drive/db/dqn/ddqn/TRAIN_END',TRAIN_END)"
      ],
      "execution_count": 14,
      "outputs": [
        {
          "output_type": "stream",
          "text": [
            "Drive already mounted at /content/drive; to attempt to forcibly remount, call drive.mount(\"/content/drive\", force_remount=True).\n"
          ],
          "name": "stdout"
        }
      ]
    },
    {
      "cell_type": "markdown",
      "metadata": {
        "id": "w_Rrp12ml7zH",
        "colab_type": "text"
      },
      "source": [
        "**Changes**  \n",
        "These are all the same changes as the DQN notebook with the exception of the update weights parameter.  \n",
        "*hyper parameters*: You can alter alpha, gamma, batch size, and episode length to see what differences the algorithm returns.  \n",
        "*Training End*: You can also change the line where I only check the last 5 runs before switching to testing mode (if len(rewards) > 5 and np.average(rewards[-5:]) > 195:) as that doesn't prove it was solved. The reason I did this was because I wanted to limit the amount of runs I made.  \n",
        "*Update Weights*: I call 'dqn.update_target_from_model()' after every episode. You can adjust this to run at different times. I have done per step (no matter how long the episode ran) and I have seen it done every X episodes. Feel free to try different things."
      ]
    },
    {
      "cell_type": "markdown",
      "metadata": {
        "id": "r1CRumb0l7zI",
        "colab_type": "text"
      },
      "source": [
        "**Conclusion**  \n",
        "This is a Double Deep Q-Network implementation. There are some changes you can make here and there but it follows the paper as close as I could. If you want to dive deeper you can see that the paper has graphs that dive deeper into the inner workings of the neural network.  "
      ]
    },
    {
      "cell_type": "markdown",
      "metadata": {
        "id": "KBYGuNO5l7zJ",
        "colab_type": "text"
      },
      "source": [
        "**Reference**  \n",
        "Van Hasselt, H., Guez, A., & Silver, D. (2016, February). Deep Reinforcement Learning with Double Q-Learning. In AAAI (Vol. 2, p. 5)"
      ]
    },
    {
      "cell_type": "markdown",
      "metadata": {
        "id": "1Pu4DK6zl7zK",
        "colab_type": "text"
      },
      "source": [
        "## Project Conclusion  \n",
        "This completes the set of notebooks that cover the original Q-Learner and continues through recent updates. Once you have worked in this area for a while you can see how powerful that first update statement really was. With just some slight tweaks, these algorithms were able to achieve higher scores than even advanced Atari players.  \n",
        "\n",
        "I hope these notebooks have peaked your interest enough to continue your reinforcement journey."
      ]
    }
  ]
}